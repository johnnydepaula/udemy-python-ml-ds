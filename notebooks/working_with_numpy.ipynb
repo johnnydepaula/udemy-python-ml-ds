{
 "cells": [
  {
   "cell_type": "code",
   "execution_count": 1,
   "id": "f0ec437a",
   "metadata": {},
   "outputs": [],
   "source": [
    "import numpy as np"
   ]
  },
  {
   "cell_type": "code",
   "execution_count": 2,
   "id": "a73be46b",
   "metadata": {},
   "outputs": [],
   "source": [
    "my_list = [1,2,3]"
   ]
  },
  {
   "cell_type": "code",
   "execution_count": 3,
   "id": "a8876ab7",
   "metadata": {},
   "outputs": [
    {
     "data": {
      "text/plain": [
       "list"
      ]
     },
     "execution_count": 3,
     "metadata": {},
     "output_type": "execute_result"
    }
   ],
   "source": [
    "type(my_list)"
   ]
  },
  {
   "cell_type": "code",
   "execution_count": 4,
   "id": "62d2589b",
   "metadata": {},
   "outputs": [],
   "source": [
    "# Transformando a lista my_list em\n",
    "# um NumPy array, e armazenando num variavel.\n",
    "my_arr = np.array(my_list)"
   ]
  },
  {
   "cell_type": "code",
   "execution_count": 6,
   "id": "93a0191c",
   "metadata": {},
   "outputs": [
    {
     "data": {
      "text/plain": [
       "array([1, 2, 3])"
      ]
     },
     "execution_count": 6,
     "metadata": {},
     "output_type": "execute_result"
    }
   ],
   "source": [
    "my_arr"
   ]
  },
  {
   "cell_type": "code",
   "execution_count": 5,
   "id": "2c508379",
   "metadata": {},
   "outputs": [
    {
     "data": {
      "text/plain": [
       "numpy.ndarray"
      ]
     },
     "execution_count": 5,
     "metadata": {},
     "output_type": "execute_result"
    }
   ],
   "source": [
    "type(my_arr)"
   ]
  },
  {
   "cell_type": "code",
   "execution_count": 7,
   "id": "b96cc818",
   "metadata": {},
   "outputs": [],
   "source": [
    "# NumPy é bem útil para trabalhar com arrays\n",
    "# multidimensionais, tornando-os até mais legíveis.\n",
    "my_matrix = [[1,2,3], [4,5,6], [7,8,9]]"
   ]
  },
  {
   "cell_type": "code",
   "execution_count": 8,
   "id": "7b2900d5",
   "metadata": {},
   "outputs": [
    {
     "data": {
      "text/plain": [
       "[[1, 2, 3], [4, 5, 6], [7, 8, 9]]"
      ]
     },
     "execution_count": 8,
     "metadata": {},
     "output_type": "execute_result"
    }
   ],
   "source": [
    "my_matrix"
   ]
  },
  {
   "cell_type": "code",
   "execution_count": 10,
   "id": "cb93d89c",
   "metadata": {},
   "outputs": [
    {
     "data": {
      "text/plain": [
       "array([[1, 2, 3],\n",
       "       [4, 5, 6],\n",
       "       [7, 8, 9]])"
      ]
     },
     "execution_count": 10,
     "metadata": {},
     "output_type": "execute_result"
    }
   ],
   "source": [
    "np.array(my_matrix) # Mais óbvio que é uma matriz."
   ]
  },
  {
   "cell_type": "markdown",
   "id": "7af5458e",
   "metadata": {},
   "source": [
    "## Built-In Functions da biblioteca NumPy"
   ]
  },
  {
   "cell_type": "code",
   "execution_count": 20,
   "id": "bbaad7d2",
   "metadata": {},
   "outputs": [
    {
     "data": {
      "text/plain": [
       "array([0, 3, 6, 9])"
      ]
     },
     "execution_count": 20,
     "metadata": {},
     "output_type": "execute_result"
    }
   ],
   "source": [
    "np.arange(0,10,3) # Similar ao range(from, to-but-not-including, step) em Python"
   ]
  },
  {
   "cell_type": "code",
   "execution_count": 24,
   "id": "4908fd3f",
   "metadata": {},
   "outputs": [
    {
     "data": {
      "text/plain": [
       "array([[0., 0., 0., 0., 0.],\n",
       "       [0., 0., 0., 0., 0.],\n",
       "       [0., 0., 0., 0., 0.]])"
      ]
     },
     "execution_count": 24,
     "metadata": {},
     "output_type": "execute_result"
    }
   ],
   "source": [
    "np.zeros((3,5))"
   ]
  },
  {
   "cell_type": "code",
   "execution_count": 26,
   "id": "e1e3f881",
   "metadata": {},
   "outputs": [
    {
     "data": {
      "text/plain": [
       "array([[1., 1., 1., 1., 1.],\n",
       "       [1., 1., 1., 1., 1.]])"
      ]
     },
     "execution_count": 26,
     "metadata": {},
     "output_type": "execute_result"
    }
   ],
   "source": [
    "np.ones((2,5))"
   ]
  },
  {
   "cell_type": "code",
   "execution_count": 29,
   "id": "504a5093",
   "metadata": {},
   "outputs": [
    {
     "data": {
      "text/plain": [
       "array([ 0. ,  0.1,  0.2,  0.3,  0.4,  0.5,  0.6,  0.7,  0.8,  0.9,  1. ,\n",
       "        1.1,  1.2,  1.3,  1.4,  1.5,  1.6,  1.7,  1.8,  1.9,  2. ,  2.1,\n",
       "        2.2,  2.3,  2.4,  2.5,  2.6,  2.7,  2.8,  2.9,  3. ,  3.1,  3.2,\n",
       "        3.3,  3.4,  3.5,  3.6,  3.7,  3.8,  3.9,  4. ,  4.1,  4.2,  4.3,\n",
       "        4.4,  4.5,  4.6,  4.7,  4.8,  4.9,  5. ,  5.1,  5.2,  5.3,  5.4,\n",
       "        5.5,  5.6,  5.7,  5.8,  5.9,  6. ,  6.1,  6.2,  6.3,  6.4,  6.5,\n",
       "        6.6,  6.7,  6.8,  6.9,  7. ,  7.1,  7.2,  7.3,  7.4,  7.5,  7.6,\n",
       "        7.7,  7.8,  7.9,  8. ,  8.1,  8.2,  8.3,  8.4,  8.5,  8.6,  8.7,\n",
       "        8.8,  8.9,  9. ,  9.1,  9.2,  9.3,  9.4,  9.5,  9.6,  9.7,  9.8,\n",
       "        9.9, 10. ])"
      ]
     },
     "execution_count": 29,
     "metadata": {},
     "output_type": "execute_result"
    }
   ],
   "source": [
    "np.linspace(0,10,101) # linspace(start, stop, evenly spaced numbers)"
   ]
  },
  {
   "cell_type": "code",
   "execution_count": 31,
   "id": "841b5de6",
   "metadata": {},
   "outputs": [
    {
     "data": {
      "text/plain": [
       "array([[1., 0., 0., 0.],\n",
       "       [0., 1., 0., 0.],\n",
       "       [0., 0., 1., 0.],\n",
       "       [0., 0., 0., 1.]])"
      ]
     },
     "execution_count": 31,
     "metadata": {},
     "output_type": "execute_result"
    }
   ],
   "source": [
    "np.eye(4) # Matriz identidade, argumento define a ordem da nossa matriz"
   ]
  },
  {
   "cell_type": "code",
   "execution_count": 54,
   "id": "b729b49d",
   "metadata": {},
   "outputs": [
    {
     "data": {
      "text/plain": [
       "array([[0.96162973, 0.87016751],\n",
       "       [0.6544505 , 0.85262646]])"
      ]
     },
     "execution_count": 54,
     "metadata": {},
     "output_type": "execute_result"
    }
   ],
   "source": [
    "np.random.rand(2,2) # Numeros aleatórios numa distribuição uniforme"
   ]
  },
  {
   "cell_type": "code",
   "execution_count": 55,
   "id": "9a9a886b",
   "metadata": {},
   "outputs": [
    {
     "data": {
      "text/plain": [
       "array([[ 0.64565363,  1.07916524, -0.18990938],\n",
       "       [-0.72865823,  0.12814858,  0.14406907]])"
      ]
     },
     "execution_count": 55,
     "metadata": {},
     "output_type": "execute_result"
    }
   ],
   "source": [
    "np.random.randn(2,3) # Numeros aleatórios numa distribuição normal (Gaussiana)"
   ]
  },
  {
   "cell_type": "code",
   "execution_count": 57,
   "id": "0dac4635",
   "metadata": {},
   "outputs": [
    {
     "data": {
      "text/plain": [
       "array([[70, 34, 81,  3,  4],\n",
       "       [17, 29, 62,  5, 91]])"
      ]
     },
     "execution_count": 57,
     "metadata": {},
     "output_type": "execute_result"
    }
   ],
   "source": [
    "np.random.randint(0,101, (2,5)) # Inteiros aleatórios, podem ser impressos como matriz"
   ]
  },
  {
   "cell_type": "code",
   "execution_count": 58,
   "id": "1eb3a1ae",
   "metadata": {},
   "outputs": [
    {
     "data": {
      "text/plain": [
       "array([0.37454012, 0.95071431, 0.73199394, 0.59865848])"
      ]
     },
     "execution_count": 58,
     "metadata": {},
     "output_type": "execute_result"
    }
   ],
   "source": [
    "np.random.seed(42) # seed() é usado para recuperar um conjunto específico de aleatórios\n",
    "np.random.rand(4)"
   ]
  },
  {
   "cell_type": "code",
   "execution_count": 59,
   "id": "06fc2fb6",
   "metadata": {},
   "outputs": [
    {
     "data": {
      "text/plain": [
       "array([0.51639863, 0.57066759, 0.02847423, 0.17152166])"
      ]
     },
     "execution_count": 59,
     "metadata": {},
     "output_type": "execute_result"
    }
   ],
   "source": [
    "np.random.seed(101) \n",
    "np.random.rand(4)"
   ]
  },
  {
   "cell_type": "markdown",
   "id": "be4112e6",
   "metadata": {},
   "source": [
    "## Alterando o Shape de um NumPy array "
   ]
  },
  {
   "cell_type": "code",
   "execution_count": 60,
   "id": "5c415e23",
   "metadata": {},
   "outputs": [],
   "source": [
    "# Reshaping a NumPy arange()\n",
    "arr = np.arange(0,20)"
   ]
  },
  {
   "cell_type": "code",
   "execution_count": 61,
   "id": "c3b84347",
   "metadata": {},
   "outputs": [
    {
     "data": {
      "text/plain": [
       "array([ 0,  1,  2,  3,  4,  5,  6,  7,  8,  9, 10, 11, 12, 13, 14, 15, 16,\n",
       "       17, 18, 19])"
      ]
     },
     "execution_count": 61,
     "metadata": {},
     "output_type": "execute_result"
    }
   ],
   "source": [
    "arr"
   ]
  },
  {
   "cell_type": "code",
   "execution_count": 63,
   "id": "7061f75a",
   "metadata": {},
   "outputs": [
    {
     "data": {
      "text/plain": [
       "array([[ 0,  1,  2,  3],\n",
       "       [ 4,  5,  6,  7],\n",
       "       [ 8,  9, 10, 11],\n",
       "       [12, 13, 14, 15],\n",
       "       [16, 17, 18, 19]])"
      ]
     },
     "execution_count": 63,
     "metadata": {},
     "output_type": "execute_result"
    }
   ],
   "source": [
    "arr.reshape(5,4)"
   ]
  },
  {
   "cell_type": "code",
   "execution_count": 64,
   "id": "71c02e6b",
   "metadata": {},
   "outputs": [
    {
     "ename": "ValueError",
     "evalue": "cannot reshape array of size 20 into shape (5,5)",
     "output_type": "error",
     "traceback": [
      "\u001b[0;31m---------------------------------------------------------------------------\u001b[0m",
      "\u001b[0;31mValueError\u001b[0m                                Traceback (most recent call last)",
      "\u001b[0;32m<ipython-input-64-5e6094aeb4ce>\u001b[0m in \u001b[0;36m<module>\u001b[0;34m\u001b[0m\n\u001b[0;32m----> 1\u001b[0;31m \u001b[0marr\u001b[0m\u001b[0;34m.\u001b[0m\u001b[0mreshape\u001b[0m\u001b[0;34m(\u001b[0m\u001b[0;36m5\u001b[0m\u001b[0;34m,\u001b[0m\u001b[0;36m5\u001b[0m\u001b[0;34m)\u001b[0m\u001b[0;34m\u001b[0m\u001b[0;34m\u001b[0m\u001b[0m\n\u001b[0m",
      "\u001b[0;31mValueError\u001b[0m: cannot reshape array of size 20 into shape (5,5)"
     ]
    }
   ],
   "source": [
    "arr.reshape(5,5) # Atente-se ao tamanho do array"
   ]
  },
  {
   "cell_type": "code",
   "execution_count": 77,
   "id": "d0a72e32",
   "metadata": {},
   "outputs": [],
   "source": [
    "ran_arr = np.random.rand(101,101)"
   ]
  },
  {
   "cell_type": "code",
   "execution_count": 78,
   "id": "8383020e",
   "metadata": {},
   "outputs": [
    {
     "data": {
      "text/plain": [
       "array([[0.14731161, 0.12934044, 0.94405605, ..., 0.83855067, 0.52554601,\n",
       "        0.37093791],\n",
       "       [0.42574953, 0.26509535, 0.44640762, ..., 0.46865298, 0.93812815,\n",
       "        0.44399364],\n",
       "       [0.63237388, 0.28581935, 0.60864697, ..., 0.5519053 , 0.69170245,\n",
       "        0.0399974 ],\n",
       "       ...,\n",
       "       [0.61631072, 0.25958781, 0.85005334, ..., 0.85842945, 0.30607501,\n",
       "        0.01988997],\n",
       "       [0.25626029, 0.76898213, 0.05374768, ..., 0.27053529, 0.87161279,\n",
       "        0.73459718],\n",
       "       [0.79040939, 0.38354128, 0.22252245, ..., 0.34341075, 0.3895679 ,\n",
       "        0.62166413]])"
      ]
     },
     "execution_count": 78,
     "metadata": {},
     "output_type": "execute_result"
    }
   ],
   "source": [
    "ran_arr"
   ]
  },
  {
   "cell_type": "code",
   "execution_count": 79,
   "id": "416517b6",
   "metadata": {},
   "outputs": [
    {
     "data": {
      "text/plain": [
       "0.0002811319493115638"
      ]
     },
     "execution_count": 79,
     "metadata": {},
     "output_type": "execute_result"
    }
   ],
   "source": [
    "ran_arr.min() # Valor mínimo presente no array"
   ]
  },
  {
   "cell_type": "code",
   "execution_count": 80,
   "id": "07acad87",
   "metadata": {},
   "outputs": [
    {
     "data": {
      "text/plain": [
       "0.9999791510297573"
      ]
     },
     "execution_count": 80,
     "metadata": {},
     "output_type": "execute_result"
    }
   ],
   "source": [
    "ran_arr.max() # Valor máximo presente no array"
   ]
  },
  {
   "cell_type": "code",
   "execution_count": 82,
   "id": "796e9795",
   "metadata": {},
   "outputs": [
    {
     "data": {
      "text/plain": [
       "3491"
      ]
     },
     "execution_count": 82,
     "metadata": {},
     "output_type": "execute_result"
    }
   ],
   "source": [
    "ran_arr.argmin() # Índice em o valor mínimo está"
   ]
  },
  {
   "cell_type": "code",
   "execution_count": 83,
   "id": "67e74fd2",
   "metadata": {},
   "outputs": [
    {
     "data": {
      "text/plain": [
       "3188"
      ]
     },
     "execution_count": 83,
     "metadata": {},
     "output_type": "execute_result"
    }
   ],
   "source": [
    "ran_arr.argmax() # Índice em o valor máximo está"
   ]
  },
  {
   "cell_type": "code",
   "execution_count": 84,
   "id": "e8829134",
   "metadata": {},
   "outputs": [
    {
     "data": {
      "text/plain": [
       "dtype('float64')"
      ]
     },
     "execution_count": 84,
     "metadata": {},
     "output_type": "execute_result"
    }
   ],
   "source": [
    "ran_arr.dtype"
   ]
  },
  {
   "cell_type": "code",
   "execution_count": 85,
   "id": "83f1f61a",
   "metadata": {},
   "outputs": [
    {
     "data": {
      "text/plain": [
       "(101, 101)"
      ]
     },
     "execution_count": 85,
     "metadata": {},
     "output_type": "execute_result"
    }
   ],
   "source": [
    "ran_arr.shape # Checando o shape do meu array"
   ]
  },
  {
   "cell_type": "code",
   "execution_count": null,
   "id": "dd561291",
   "metadata": {},
   "outputs": [],
   "source": []
  }
 ],
 "metadata": {
  "kernelspec": {
   "display_name": "Python 3",
   "language": "python",
   "name": "python3"
  },
  "language_info": {
   "codemirror_mode": {
    "name": "ipython",
    "version": 3
   },
   "file_extension": ".py",
   "mimetype": "text/x-python",
   "name": "python",
   "nbconvert_exporter": "python",
   "pygments_lexer": "ipython3",
   "version": "3.8.8"
  }
 },
 "nbformat": 4,
 "nbformat_minor": 5
}
